{
 "cells": [
  {
   "cell_type": "code",
   "execution_count": 4,
   "metadata": {
    "collapsed": true
   },
   "outputs": [],
   "source": [
    "import numpy as np\n",
    "import scipy as scp\n",
    "\n",
    "from matplotlib import pyplot as plt\n",
    "%matplotlib inline"
   ]
  },
  {
   "cell_type": "code",
   "execution_count": 10,
   "metadata": {
    "collapsed": false
   },
   "outputs": [],
   "source": [
    "class Processor:\n",
    "    \n",
    "    \n",
    "    def __init__(self):\n",
    "        self.N = self.n_signal = 0\n",
    "        self.alpha = 1\n",
    "        self.Y = self.y0 = None\n",
    "        \n",
    "    def fit(self, Y_fit, y0_fit):\n",
    "        if self.Y is not None or self.y0 is not None:\n",
    "            throw(\"Error: fit already fitted Processor. Use add_fit().\")\n",
    "        self.Y = Y_fit.copy()\n",
    "        self.y0 = y0_fit.copy()\n",
    "        self.n_signal = Y_fit.shape[-1]\n",
    "        self.N = y0_fit.size\n",
    "        if (Y_fit.shape[0] != self.N):\n",
    "            print(\"Error: not matching shapes for profit_item and, profit_case\")\n",
    "        \n",
    "    def params_init(self):\n",
    "        n = self.n_signal; N = self.N\n",
    "        y0 = self.y0; Y = self.Y \n",
    "        self.P = np.zeros((n, n-1))\n",
    "        self.P[np.arange(n-1), np.arange(n-1)] = 1\n",
    "        self.P[n-1] = -1\n",
    "        #self.P[-1, -1] = -1\n",
    "        self.p = np.zeros((n, 1))\n",
    "        self.p[n-1] = 1\n",
    "        \n",
    "        self.At = np.zeros((N, n, n))\n",
    "        #print(n, (1+y0)[np.newaxis, :].shape, self.At[:,np.arange(n),np.arange(n)].shape)\n",
    "        self.At[:,np.arange(n),np.arange(n)] = (1+Y)/(1+y0)[:, np.newaxis]\n",
    "        #np.diagonal(self.A, axis1=1, axis2=2) = \n",
    "        \n",
    "        self.U = np.diag(np.ones((n,))*self.alpha)\n",
    "        \n",
    "        \n",
    "    def add_fit(self, Y_add, y0_add):\n",
    "        if self.n_signal != Y_add.shape[-1]:\n",
    "            throw(\"Error: not appropriate added signals length.\")\n",
    "        self.N += Y_add.shape[0]\n",
    "        self.Y = np.concatenate((self.Y, Y_add))\n",
    "        self.y0 = np.concatenate((self.y0, y0_add))\n",
    "    \n",
    "    def CalcRegr_prepare(self, equal_constraint=True):\n",
    "        n = self.n_signal\n",
    "        N = self.N\n",
    "        # transform due to equality constraints\n",
    "        Y = self.Y.copy()\n",
    "        y0 = self.y0.copy()\n",
    "        U = self.U.copy()\n",
    "        At = self.At.copy()\n",
    "        P = self.P\n",
    "        p = self.p\n",
    "        alpha = self.alpha\n",
    "        \n",
    "        if equal_constraint:\n",
    "            y0 = y0 - self.Y[:, -1]\n",
    "            Y = self.Y[:, :-1] - self.Y[:, -1].reshape(-1, 1)\n",
    "            devider = np.sum(Y*Y, axis=1)\n",
    "            devider[devider == 0] = 1\n",
    "            self.a0 = a0 = (y0/devider)[:,np.newaxis]*Y\n",
    "            a0[devider == 0, :] = 0\n",
    "            self.Q0 = Q0 = Y[:, np.newaxis, :]*Y[:, :, np.newaxis]\n",
    "            # not needed self.b0 = b0 = np.zeros((,)) # needed???\n",
    "            Tmp = np.dot(At[1:,...].transpose(0,2,1), U)\n",
    "            Tmp = np.sum(Tmp.transpose(0, 2, 1)[...,np.newaxis]*(np.eye(n)[np.newaxis,...] - At[1:,...])[...,np.newaxis,:], -3)\n",
    "            #print(At[1:,...].transpose(0,2,1).shape, Tmp.shape)\n",
    "            Tmp = (np.concatenate((np.zeros((1, n, n)), Tmp), axis=0) + \n",
    "                U.dot(At-np.eye(n)[np.newaxis,...]).transpose(1, 0, 2))\n",
    "            a0 += (1/devider[:, np.newaxis])*np.dot(P.T, Tmp).transpose(1, 0, 2)[:, :, -1]\n",
    "            \n",
    "            Tmp = np.dot(P.T, U)\n",
    "            At = np.transpose(np.dot((np.linalg.inv(Tmp.dot(P))).dot(Tmp), At), axes=(1, 0, 2)).dot(P)\n",
    "            U = Tmp.dot(P)\n",
    "        else:\n",
    "            devider = np.sum(Y*Y, axis=1)\n",
    "            devider[devider == 0] = 1\n",
    "            self.a0 = a0 = (y0/devider)[:,np.newaxis]*Y\n",
    "            a0[devider == 0, :] = 0\n",
    "            self.Q0 = Q0 = Y[:, np.newaxis, :]*Y[:, :, np.newaxis]\n",
    "            \n",
    "        self.U = U\n",
    "        self.At = At\n",
    "        self.trans_Y = Y\n",
    "        self.trans_y0 = y0\n",
    "        return Y, y0, U, At\n",
    "        \n",
    "    def CalcRegression(equal_const=True):\n",
    "        n = self.n_signal\n",
    "        s_len = self.sig_len\n",
    "        # transform due to equality constraints\n",
    "        \n",
    "    def ProcessTo(self):\n",
    "        N = self.N; n = self.n_signal\n",
    "        al = self.al = np.ones((N, n-1))\n",
    "        Ql = self.Ql = np.empty((N, n-1, n-1))\n",
    "        bl = self.bl = np.empty((N, n-1))\n",
    "         \n",
    "        a0 = self.a0\n",
    "        Q0 = self.Q0\n",
    "        \n",
    "        al[0] = self.a0[0]\n",
    "        bl[0] = np.zeros((n-1,))\n",
    "        Ql[0] = self.Q0[0]\n",
    "        \n",
    "        U = self.U\n",
    "        At = self.At\n",
    "        \n",
    "        for t in range(1, N):\n",
    "            Tmp = U.dot(At[t]).dot(np.linalg.inv((At[t].T).dot(U).dot(At[t]) + Ql[t-1])).dot(\n",
    "                Ql[t-1]).dot(np.linalg.inv(At[t]))\n",
    "            Ql[t] = Q0[t] + Tmp\n",
    "            al[t] = np.linalg.inv(Ql[t]).dot(Q0[t].dot(a0[t]) + Tmp.dot(At[t]).dot(al[t-1]))\n",
    "            bl[t] =(bl[t-1]+np.dot((a0[t] - al[t]).T, Q0[t]).dot(a0[t]) + \n",
    "                np.dot((al[t-1]-((At[t]).T).dot(al[t])).T, Ql[t]-Q0[t]).dot(al[t-1]))\n",
    "    \n",
    "    def ProcessFrom(self):\n",
    "        N = self.N; n = self.n_signal\n",
    "        ar = self.ar = np.empty((N, n-1))\n",
    "        Qr = self.Qr = np.empty((N, n-1, n-1))\n",
    "        br = self.br = np.empty((N, n-1))\n",
    "\n",
    "        a0 = self.a0\n",
    "        Q0 = self.Q0\n",
    "\n",
    "        ar[N-1] = self.a0[N-1]\n",
    "        br[N-1] = np.zeros((n-1,))\n",
    "        Qr[N-1] = self.Q0[N-1]\n",
    "\n",
    "        U = self.U\n",
    "        At = self.At\n",
    "        \n",
    "        for t in range(N-2, -1, -1):\n",
    "            Tmp = (At[t+1].T).dot(U).dot(np.linalg.inv(U+Qr[t+1])).dot(Qr[t+1])\n",
    "            Qr[t] = Q0[t] + Tmp.dot(At[t+1])\n",
    "            ar[t] = np.linalg.inv(Qr[t]).dot(Q0[t].dot(a0[t]) + Tmp.dot(ar[t+1]))\n",
    "            br[t] =(br[t+1]+np.dot((a0[t] - ar[t]).T, Q0[t]).dot(a0[t]) + \n",
    "                np.dot((ar[t+1]-((At[t+1]).T).dot(ar[t])).T, U).dot(\n",
    "                    np.linalg.inv(U+Qr[t+1])).dot(Qr[t+1].dot(ar[t+1])))\n",
    "    \n",
    "    def Merge(self):\n",
    "        ar = self.ar; al = self.al; a0 = self.a0\n",
    "        Qr = self.Qr; Ql = self.Ql; Q0 = self.Q0\n",
    "        br = self.br; bl = self.bl\n",
    "        N = self.N; n = self.n_signal\n",
    "        \n",
    "        self.part_item = np.zeros((N, n-1))\n",
    "        for t in range(N):\n",
    "            if 0<t<N-1:\n",
    "                Tmp1 = (At[t+1].T).dot(U).dot(np.linalg.inv(U+Qr[t+1])).dot(Qr[t+1])\n",
    "                Tmp2 = U.dot(At[t]).dot(np.linalg.inv((At[t].T).dot(U).dot(At[t]) + Ql[t-1])).dot(\n",
    "                        Ql[t-1])\n",
    "                Q_t = Tmp1.dot(At[t+1]) + Q0[t]+Tmp2.dot(np.linalg.inv(At[t]))\n",
    "                self.part_item[t] = np.linalg.inv(Q_t).dot(Tmp1.dot(ar[t+1])+Q0[t].dot(a0[t])+Tmp2.dot(al[t-1]))\n",
    "            if not t:\n",
    "                Tmp1 = (At[t+1].T).dot(U).dot(np.linalg.inv(U+Qr[t+1])).dot(Qr[t+1])\n",
    "                self.part_item[t] = np.linalg.inv(Qr[t]+Q0[t]).dot(Tmp1.dot(ar[t+1])+Q0[t].dot(a0[t]))\n",
    "            if t==N-1:\n",
    "                Tmp2 = U.dot(At[t]).dot(np.linalg.inv((At[t].T).dot(U).dot(At[t]) + Ql[t-1])).dot(\n",
    "                        Ql[t-1])\n",
    "                self.part_item[t] = np.linalg.inv(Ql[t]+Q0[t]).dot(Tmp2.dot(al[t-1])+Q0[t].dot(a0[t]))\n",
    "            "
   ]
  },
  {
   "cell_type": "code",
   "execution_count": 11,
   "metadata": {
    "collapsed": false
   },
   "outputs": [],
   "source": [
    "proc = Processor()\n",
    "proc.fit(profit_item, profit_case)\n",
    "proc.params_init()\n",
    "Y, y0, U, At = proc.CalcRegr_prepare()\n",
    "proc.ProcessTo()\n",
    "proc.ProcessFrom()\n",
    "proc.Merge()"
   ]
  },
  {
   "cell_type": "code",
   "execution_count": 12,
   "metadata": {
    "collapsed": false
   },
   "outputs": [
    {
     "data": {
      "text/plain": [
       "array([[ 0.39507477,  1.66884208],\n",
       "       [ 0.47184942,  1.43488314],\n",
       "       [ 0.51141875,  1.37763949],\n",
       "       ..., \n",
       "       [ 2.0203782 ,  1.45212968],\n",
       "       [ 1.98034413,  1.47475083],\n",
       "       [ 1.85056733,  1.11428738]])"
      ]
     },
     "execution_count": 12,
     "metadata": {},
     "output_type": "execute_result"
    }
   ],
   "source": [
    "proc.part_item"
   ]
  },
  {
   "cell_type": "code",
   "execution_count": 13,
   "metadata": {
    "collapsed": false,
    "scrolled": true
   },
   "outputs": [
    {
     "data": {
      "text/plain": [
       "array([[ 0.29787577,  0.40424846,  0.29787577],\n",
       "       [ 0.30211364,  0.39577272,  0.30211364],\n",
       "       [ 0.30513973,  0.38972054,  0.30513973],\n",
       "       ..., \n",
       "       [ 0.33035441,  0.33929117,  0.33035441],\n",
       "       [ 0.36503188,  0.26993624,  0.36503188],\n",
       "       [ 0.39700267,  0.20599467,  0.39700267]])"
      ]
     },
     "execution_count": 13,
     "metadata": {},
     "output_type": "execute_result"
    }
   ],
   "source": [
    "part_item"
   ]
  },
  {
   "cell_type": "code",
   "execution_count": 14,
   "metadata": {
    "collapsed": false
   },
   "outputs": [],
   "source": [
    "my_part_item = ((proc.P).dot(proc.part_item.T) + proc.p).T"
   ]
  },
  {
   "cell_type": "code",
   "execution_count": 15,
   "metadata": {
    "collapsed": false
   },
   "outputs": [
    {
     "data": {
      "text/plain": [
       "array([[ 0.39507477,  1.66884208, -1.06391685],\n",
       "       [ 0.47184942,  1.43488314, -0.90673256],\n",
       "       [ 0.51141875,  1.37763949, -0.88905824],\n",
       "       ..., \n",
       "       [ 2.0203782 ,  1.45212968, -2.47250788],\n",
       "       [ 1.98034413,  1.47475083, -2.45509496],\n",
       "       [ 1.85056733,  1.11428738, -1.9648547 ]])"
      ]
     },
     "execution_count": 15,
     "metadata": {},
     "output_type": "execute_result"
    }
   ],
   "source": [
    "my_part_item"
   ]
  },
  {
   "cell_type": "code",
   "execution_count": 16,
   "metadata": {
    "collapsed": false
   },
   "outputs": [
    {
     "data": {
      "text/plain": [
       "(array([ 134.5493181,  134.5493181]), array([ 140.54721314,  140.54721314]))"
      ]
     },
     "execution_count": 16,
     "metadata": {},
     "output_type": "execute_result"
    }
   ],
   "source": [
    "proc.br[0], proc.bl[N-1]"
   ]
  },
  {
   "cell_type": "code",
   "execution_count": 17,
   "metadata": {
    "collapsed": false
   },
   "outputs": [
    {
     "data": {
      "text/plain": [
       "0"
      ]
     },
     "execution_count": 17,
     "metadata": {},
     "output_type": "execute_result"
    }
   ],
   "source": [
    "np.sum(proc.al[:,0] == 100)"
   ]
  },
  {
   "cell_type": "raw",
   "metadata": {
    "collapsed": false
   },
   "source": [
    "np.sum(np.sum(At, axis=-1), axis=-1)"
   ]
  },
  {
   "cell_type": "markdown",
   "metadata": {},
   "source": [
    "## Generation"
   ]
  },
  {
   "cell_type": "code",
   "execution_count": 5,
   "metadata": {
    "collapsed": false
   },
   "outputs": [],
   "source": [
    "N = 1000\n",
    "n = 3\n",
    "t = np.arange(N+1)"
   ]
  },
  {
   "cell_type": "code",
   "execution_count": 6,
   "metadata": {
    "collapsed": false
   },
   "outputs": [],
   "source": [
    "cost_item = np.array([np.random.randn(N+1)*2, np.random.randn(N+1), np.random.randn(N+1)*5]).T; cost_item[0, :] = np.array([100, 50, 70]);\n",
    "cost_item = np.cumsum(cost_item, axis=0) # make model through time\n",
    "cost_item -= cost_item.min(axis=0)[np.newaxis, :] - np.random.randint(30)\n",
    "low, high = 20, 50\n",
    "num_item = np.array([low*np.sin(t*np.pi/5), high*np.sin(t*np.pi/9 + np.pi/9*2), low*np.sin(t*np.pi/5)]).T + high+low+low\n",
    "part_item = num_item / num_item.sum(axis=-1)[:, np.newaxis]"
   ]
  },
  {
   "cell_type": "code",
   "execution_count": 7,
   "metadata": {
    "collapsed": false
   },
   "outputs": [
    {
     "data": {
      "text/plain": [
       "[<matplotlib.lines.Line2D at 0x7f2c9b063278>,\n",
       " <matplotlib.lines.Line2D at 0x7f2c9b063a20>]"
      ]
     },
     "execution_count": 7,
     "metadata": {},
     "output_type": "execute_result"
    },
    {
     "data": {
      "image/png": "[encoded data removed]",
      "text/plain": [
       "<matplotlib.figure.Figure at 0x7f2c9d0f56d8>"
      ]
     },
     "metadata": {},
     "output_type": "display_data"
    }
   ],
   "source": [
    "s = 100\n",
    "do = 200\n",
    "q = cost_item\n",
    "plt.plot(t[s:do], q[s:do, 0], 'b', t[s:do], q[s:do, 1], 'g')\n",
    "q = part_item\n",
    "plt.plot(t[s:do], 120*q[s:do, 0], 'r', t[s:do], 120*q[s:do, 1], 'y')"
   ]
  },
  {
   "cell_type": "code",
   "execution_count": 8,
   "metadata": {
    "collapsed": false
   },
   "outputs": [],
   "source": [
    "profit_item = np.diff(cost_item, axis=0)/cost_item[:-1, :]\n",
    "cost_case = np.sum(num_item*cost_item, axis=-1)\n",
    "profit_case = np.diff(cost_case)/cost_case[:-1]\n",
    "\n",
    "if np.sum(cost_item == 0) != 0 or np.sum(np.isclose(profit_item[0,:], profit_item[1,:])) != 0:\n",
    "    print(\"Bad experiment\")"
   ]
  },
  {
   "cell_type": "code",
   "execution_count": 9,
   "metadata": {
    "collapsed": false
   },
   "outputs": [],
   "source": [
    "X = np.arange(100*10).reshape(100, 10)\n",
    "y = np.arange(100)\n",
    "a0 = (y/np.sum(X*X, axis=1))[:, np.newaxis]*X\n",
    "a0[np.sum(X*X, axis=1) == 0, :] = 0\n",
    "Q0 = X[:, np.newaxis, :]*X[:, :, np.newaxis]\n",
    "b0 = np.zeros((100,)) # needed???"
   ]
  },
  {
   "cell_type": "code",
   "execution_count": null,
   "metadata": {
    "collapsed": true
   },
   "outputs": [],
   "source": []
  }
 ],
 "metadata": {
  "kernelspec": {
   "display_name": "Python 3",
   "language": "python",
   "name": "python3"
  },
  "language_info": {
   "codemirror_mode": {
    "name": "ipython",
    "version": 3
   },
   "file_extension": ".py",
   "mimetype": "text/x-python",
   "name": "python",
   "nbconvert_exporter": "python",
   "pygments_lexer": "ipython3",
   "version": "3.4.3"
  }
 },
 "nbformat": 4,
 "nbformat_minor": 0
}
